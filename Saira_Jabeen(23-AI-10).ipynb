{
  "nbformat": 4,
  "nbformat_minor": 0,
  "metadata": {
    "colab": {
      "provenance": []
    },
    "kernelspec": {
      "name": "python3",
      "display_name": "Python 3"
    },
    "language_info": {
      "name": "python"
    }
  },
  "cells": [
    {
      "cell_type": "markdown",
      "source": [
        "**OPEN ENDED LAB 2**\n",
        "\n",
        "Name : Saira Jabeen,\n",
        "Roll No : 23-AI-10,\n",
        "Section : A2,\n",
        "Subject : Data Structure,\n",
        "Date : 14-January-2025\n"
      ],
      "metadata": {
        "id": "UBnDPFLqDld0"
      }
    },
    {
      "cell_type": "code",
      "source": [
        "def follows_pattern(pattern, s):\n",
        "  words = s.split()\n",
        "  if len(pattern)!= len(words):\n",
        "    return False\n",
        "\n",
        "# Mapping\n",
        "  char_to_word = {}\n",
        "  word_to_char = {}\n",
        "\n",
        "  for i in range(len(pattern)):\n",
        "    char = pattern[i]\n",
        "    word = words[i]\n",
        "\n",
        "    if char in char_to_word:\n",
        "      if char_to_word[char] != word:\n",
        "        return False\n",
        "    else:\n",
        "      char_to_word[char] = word\n",
        "\n",
        "    if word in word_to_char:\n",
        "      if word_to_char[word] != char:\n",
        "        return False\n",
        "    else:\n",
        "      word_to_char[word] = char\n",
        "\n",
        "  return True\n",
        "\n",
        "# Taking input from the user\n",
        "pattern = input(\"Enter the pattern: \")\n",
        "s = input(\"Enter the string: \")\n",
        "\n",
        "# Check the string True or False\n",
        "if follows_pattern(pattern, s):\n",
        "  print(\"TRUE\")\n",
        "else:\n",
        "  print(\"FALSE\")"
      ],
      "metadata": {
        "colab": {
          "base_uri": "https://localhost:8080/"
        },
        "id": "xoLa_VVoJabA",
        "outputId": "4ce997e4-b6e4-4d23-b859-06a0dda1e3f8"
      },
      "execution_count": 13,
      "outputs": [
        {
          "output_type": "stream",
          "name": "stdout",
          "text": [
            "Enter the pattern: ttye\n",
            "Enter the string: hani ali kainat saira hafsa\n",
            "FALSE\n"
          ]
        }
      ]
    }
  ]
}